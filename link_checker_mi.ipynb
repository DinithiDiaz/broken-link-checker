{
  "nbformat": 4,
  "nbformat_minor": 0,
  "metadata": {
    "colab": {
      "provenance": [],
      "authorship_tag": "ABX9TyOz1AiHddxHVKQxCnR0IjBP",
      "include_colab_link": true
    },
    "kernelspec": {
      "name": "python3",
      "display_name": "Python 3"
    },
    "language_info": {
      "name": "python"
    }
  },
  "cells": [
    {
      "cell_type": "markdown",
      "metadata": {
        "id": "view-in-github",
        "colab_type": "text"
      },
      "source": [
        "<a href=\"https://colab.research.google.com/github/DinithiDiaz/broken-link-checker/blob/main/link_checker_mi.ipynb\" target=\"_parent\"><img src=\"https://colab.research.google.com/assets/colab-badge.svg\" alt=\"Open In Colab\"/></a>"
      ]
    },
    {
      "cell_type": "code",
      "execution_count": 1,
      "metadata": {
        "colab": {
          "base_uri": "https://localhost:8080/"
        },
        "id": "uxIyV-BIcdBZ",
        "outputId": "4ef7fdf4-d776-403d-edfb-c0ecd8493335"
      },
      "outputs": [
        {
          "output_type": "stream",
          "name": "stdout",
          "text": [
            "Collecting linkchecker\n",
            "  Downloading LinkChecker-10.3.0-py3-none-any.whl (279 kB)\n",
            "\u001b[2K     \u001b[90m━━━━━━━━━━━━━━━━━━━━━━━━━━━━━━━━━━━━━━━━\u001b[0m \u001b[32m279.3/279.3 kB\u001b[0m \u001b[31m2.5 MB/s\u001b[0m eta \u001b[36m0:00:00\u001b[0m\n",
            "\u001b[?25hRequirement already satisfied: beautifulsoup4>=4.8.1 in /usr/local/lib/python3.10/dist-packages (from linkchecker) (4.11.2)\n",
            "Collecting dnspython>=2.0 (from linkchecker)\n",
            "  Downloading dnspython-2.4.2-py3-none-any.whl (300 kB)\n",
            "\u001b[2K     \u001b[90m━━━━━━━━━━━━━━━━━━━━━━━━━━━━━━━━━━━━━━━━\u001b[0m \u001b[32m300.4/300.4 kB\u001b[0m \u001b[31m16.1 MB/s\u001b[0m eta \u001b[36m0:00:00\u001b[0m\n",
            "\u001b[?25hRequirement already satisfied: requests>=2.20 in /usr/local/lib/python3.10/dist-packages (from linkchecker) (2.31.0)\n",
            "Requirement already satisfied: soupsieve>1.2 in /usr/local/lib/python3.10/dist-packages (from beautifulsoup4>=4.8.1->linkchecker) (2.5)\n",
            "Requirement already satisfied: charset-normalizer<4,>=2 in /usr/local/lib/python3.10/dist-packages (from requests>=2.20->linkchecker) (3.3.2)\n",
            "Requirement already satisfied: idna<4,>=2.5 in /usr/local/lib/python3.10/dist-packages (from requests>=2.20->linkchecker) (3.6)\n",
            "Requirement already satisfied: urllib3<3,>=1.21.1 in /usr/local/lib/python3.10/dist-packages (from requests>=2.20->linkchecker) (2.0.7)\n",
            "Requirement already satisfied: certifi>=2017.4.17 in /usr/local/lib/python3.10/dist-packages (from requests>=2.20->linkchecker) (2023.11.17)\n",
            "Installing collected packages: dnspython, linkchecker\n",
            "Successfully installed dnspython-2.4.2 linkchecker-10.3.0\n"
          ]
        }
      ],
      "source": [
        "pip install linkchecker"
      ]
    },
    {
      "cell_type": "code",
      "source": [
        "!linkchecker https://mi.docs.wso2.com/"
      ],
      "metadata": {
        "colab": {
          "base_uri": "https://localhost:8080/"
        },
        "id": "eY9NaXQrcsRu",
        "outputId": "3fbbb691-a1b1-4c5c-805a-b67198940660"
      },
      "execution_count": null,
      "outputs": [
        {
          "output_type": "stream",
          "name": "stdout",
          "text": [
            "\u001b[1;33mWARNING linkcheck.check 2023-12-06 18:45:32,583 MainThread Running as root user; dropping privileges by changing user to nobody.\u001b[0m\n",
            "\u001b[0mINFO linkcheck.cmdline 2023-12-06 18:45:32,583 MainThread Checking intern URLs only; use --check-extern to check extern URLs.\u001b[0m\n",
            "LinkChecker 10.3.0\n",
            "Copyright (C) 2000-2016 Bastian Kleineidam, 2010-2023 LinkChecker Authors\n",
            "LinkChecker comes with ABSOLUTELY NO WARRANTY!\n",
            "This is free software, and you are welcome to redistribute it under\n",
            "certain conditions. Look at the file `COPYING' within this distribution.\n",
            "Read the documentation at https://linkchecker.github.io/linkchecker/\n",
            "Write comments and bugs to https://github.com/linkchecker/linkchecker/issues\n",
            "\n",
            "Start checking at 2023-12-06 18:45:32+000\n",
            "\n",
            "URL        \u001b[0m`https://mi.docs.wso2.com/'\n",
            "\u001b[0mReal URL   \u001b[36mhttps://mi.docs.wso2.com/en/latest/\n",
            "\u001b[0mCheck time \u001b[0m0.851 seconds\n",
            "\u001b[0mD/L time   \u001b[0m0.005 seconds\n",
            "\u001b[0mSize       \u001b[0m289.78KB\n",
            "\u001b[0mWarning    \u001b[1;33m[http-redirected] Redirected to\n",
            "           `https://mi.docs.wso2.com/en/latest/' status: 301\n",
            "           Moved Permanently.\n",
            "\u001b[0mResult     \u001b[1;32mValid\u001b[0m\u001b[1;32m: 200 OK\u001b[0m\n",
            "10 threads active,   274 links queued,    4 links in 289 URLs checked, runtime 1 seconds\n",
            "10 threads active,   743 links queued,   60 links in 814 URLs checked, runtime 6 seconds\n",
            "10 threads active,   857 links queued,   69 links in 937 URLs checked, runtime 11 seconds\n",
            "10 threads active,   913 links queued,  126 links in 1050 URLs checked, runtime 16 seconds\n",
            "10 threads active,   977 links queued,  167 links in 1155 URLs checked, runtime 21 seconds\n",
            "10 threads active,  1018 links queued,  188 links in 1217 URLs checked, runtime 26 seconds\n",
            "10 threads active,  1021 links queued,  224 links in 1256 URLs checked, runtime 31 seconds\n",
            "10 threads active,  1015 links queued,  257 links in 1283 URLs checked, runtime 36 seconds\n",
            "10 threads active,  1012 links queued,  283 links in 1306 URLs checked, runtime 41 seconds\n",
            "10 threads active,  1004 links queued,  318 links in 1333 URLs checked, runtime 46 seconds\n",
            "10 threads active,  1001 links queued,  348 links in 1360 URLs checked, runtime 51 seconds\n",
            "10 threads active,   992 links queued,  381 links in 1384 URLs checked, runtime 56 seconds\n",
            "10 threads active,   984 links queued,  409 links in 1404 URLs checked, runtime 1 minute, 1 seconds\n",
            "10 threads active,   977 links queued,  436 links in 1424 URLs checked, runtime 1 minute, 6 seconds\n",
            "10 threads active,   970 links queued,  469 links in 1450 URLs checked, runtime 1 minute, 11 seconds\n",
            "10 threads active,   960 links queued,  500 links in 1471 URLs checked, runtime 1 minute, 16 seconds\n",
            "10 threads active,   960 links queued,  522 links in 1493 URLs checked, runtime 1 minute, 21 seconds\n",
            "10 threads active,   984 links queued,  580 links in 1575 URLs checked, runtime 1 minute, 26 seconds\n",
            "10 threads active,  1020 links queued,  607 links in 1638 URLs checked, runtime 1 minute, 31 seconds\n",
            "10 threads active,  1113 links queued,  632 links in 1756 URLs checked, runtime 1 minute, 36 seconds\n",
            "10 threads active,  1155 links queued,  668 links in 1834 URLs checked, runtime 1 minute, 41 seconds\n",
            "10 threads active,  1192 links queued,  710 links in 1913 URLs checked, runtime 1 minute, 46 seconds\n",
            "10 threads active,  1262 links queued,  745 links in 2018 URLs checked, runtime 1 minute, 51 seconds\n",
            "10 threads active,  1259 links queued,  771 links in 2041 URLs checked, runtime 1 minute, 56 seconds\n",
            "10 threads active,  1260 links queued,  803 links in 2074 URLs checked, runtime 2 minutes, 1 seconds\n",
            "10 threads active,  1259 links queued,  845 links in 2115 URLs checked, runtime 2 minutes, 6 seconds\n"
          ]
        }
      ]
    }
  ]
}